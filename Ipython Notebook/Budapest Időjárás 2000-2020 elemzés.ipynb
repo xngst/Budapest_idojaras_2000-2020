{
 "cells": [
  {
   "cell_type": "markdown",
   "metadata": {},
   "source": [
    "# Budapest Weather 2000-2020 analysis"
   ]
  },
  {
   "cell_type": "markdown",
   "metadata": {},
   "source": [
    "#### Data Source: \n",
    "https://darksky.net/dev\n",
    "\n",
    "\n",
    "\n",
    "#### Data Description: \n",
    "https://darksky.net/dev/docs  \n",
    "Data is in SI units as follows:\n",
    "\n",
    "* summary: Any summaries containing temperature or snow accumulation units will have their values in degrees\n",
    "  Celsius or in centimeters (respectively).\n",
    "* nearestStormDistance: Kilometers.\n",
    "* precipIntensity: Millimeters per hour.\n",
    "* precipIntensityMax: Millimeters per hour.\n",
    "* temperature: Degrees Celsius.\n",
    "* temperatureMin: Degrees Celsius.\n",
    "* temperatureMax: Degrees Celsius.\n",
    "* apparentTemperature: Degrees Celsius.\n",
    "* dewPoint: Degrees Celsius.\n",
    "* windSpeed: Meters per second.\n",
    "* windGust: Meters per second.\n",
    "* pressure: Hectopascals.\n",
    "* visibility: Kilometers."
   ]
  },
  {
   "cell_type": "code",
   "execution_count": 1,
   "metadata": {},
   "outputs": [],
   "source": [
    "import glob\n",
    "import time\n",
    "from datetime import datetime\n",
    "from pathlib import Path\n",
    "\n",
    "import numpy as np\n",
    "import pandas as pd\n",
    "import os"
   ]
  },
  {
   "cell_type": "code",
   "execution_count": 2,
   "metadata": {},
   "outputs": [],
   "source": [
    "IN_DIR = Path(\"/home/xunguist/Budapest_idojaras_2010-2020/BP_years\")"
   ]
  },
  {
   "cell_type": "markdown",
   "metadata": {},
   "source": [
    "## Read and parse raw data"
   ]
  },
  {
   "cell_type": "markdown",
   "metadata": {},
   "source": [
    "#### Create custom parsers and define datetime columns"
   ]
  },
  {
   "cell_type": "code",
   "execution_count": 3,
   "metadata": {},
   "outputs": [],
   "source": [
    "def custom_date_parser(x: str) -> datetime:\n",
    "    \"\"\n",
    "    try:\n",
    "        x = datetime.strptime(x, \"%Y-%m-%d %H:%M\")\n",
    "        return x\n",
    "    except TypeError:\n",
    "        return np.NaN\n",
    "    \n",
    "def custom_int_parser(x: str) -> int:\n",
    "    \"\"\n",
    "    try:\n",
    "        x = np.int64(x)\n",
    "        return x\n",
    "    except (TypeError,ValueError):\n",
    "        return np.NaN\n",
    "\n",
    "datetime_cols = [\"time\", \"sunriseTime\", \"temperatureLowTime\",\n",
    "                 \"precipIntensityMaxTime\", \"temperatureHighTime\",\n",
    "                 \"apparentTemperatureHighTime\", \"apparentTemperatureLowTime\",\n",
    "                 \"temperatureMinTime\", \"temperatureMaxTime\",\n",
    "                 \"apparentTemperatureMinTime\", \"apparentTemperatureMaxTime\"]"
   ]
  },
  {
   "cell_type": "markdown",
   "metadata": {},
   "source": [
    "####  Iterate over INDIR and collect data into a single pd dataframe"
   ]
  },
  {
   "cell_type": "code",
   "execution_count": 11,
   "metadata": {},
   "outputs": [],
   "source": [
    "all_years = pd.DataFrame()\n",
    "\n",
    "for file in IN_DIR.glob(\"*.csv\"):\n",
    "    year_df = pd.read_csv(file, \n",
    "                          parse_dates=datetime_cols,\n",
    "                          date_parser=custom_date_parser,\n",
    "                          converters={\"uvIndex\":custom_int_parser})\n",
    "    all_years = all_years.append(year_df)"
   ]
  },
  {
   "cell_type": "code",
   "execution_count": 12,
   "metadata": {},
   "outputs": [
    {
     "name": "stdout",
     "output_type": "stream",
     "text": [
      "<class 'pandas.core.frame.DataFrame'>\n",
      "Int64Index: 7669 entries, 0 to 365\n",
      "Data columns (total 37 columns):\n",
      "Unnamed: 0                     7669 non-null int64\n",
      "time                           7669 non-null datetime64[ns]\n",
      "summary                        7420 non-null object\n",
      "sunriseTime                    7669 non-null datetime64[ns]\n",
      "moonPhase                      7669 non-null float64\n",
      "precipIntensity                5089 non-null float64\n",
      "precipIntensityMax             5089 non-null float64\n",
      "precipIntensityMaxTime         1870 non-null datetime64[ns]\n",
      "precipProbability              5088 non-null float64\n",
      "precipType                     3721 non-null object\n",
      "temperatureHigh                7664 non-null float64\n",
      "temperatureHighTime            7664 non-null datetime64[ns]\n",
      "temperatureLow                 7666 non-null float64\n",
      "temperatureHigh.1              7664 non-null float64\n",
      "temperatureLowTime             7666 non-null datetime64[ns]\n",
      "apparentTemperatureHigh        7664 non-null float64\n",
      "apparentTemperatureHighTime    7664 non-null datetime64[ns]\n",
      "apparentTemperatureLowTime     7666 non-null datetime64[ns]\n",
      "apparentTemperatureLow         7666 non-null float64\n",
      "dewPoint                       7669 non-null float64\n",
      "humidity                       7669 non-null float64\n",
      "pressure                       7313 non-null float64\n",
      "windSpeed                      7669 non-null float64\n",
      "windGust                       5262 non-null float64\n",
      "windBearing                    7669 non-null int64\n",
      "cloudCover                     7436 non-null float64\n",
      "uvIndex                        7655 non-null float64\n",
      "visibility                     4782 non-null float64\n",
      "ozone                          613 non-null float64\n",
      "temperatureMin                 7669 non-null float64\n",
      "temperatureMinTime             7669 non-null datetime64[ns]\n",
      "temperatureMaxTime             7669 non-null datetime64[ns]\n",
      "temperatureMax                 7669 non-null float64\n",
      "apparentTemperatureMin         7669 non-null float64\n",
      "apparentTemperatureMinTime     7669 non-null datetime64[ns]\n",
      "apparentTemperatureMax         7669 non-null float64\n",
      "apparentTemperatureMaxTime     7669 non-null datetime64[ns]\n",
      "dtypes: datetime64[ns](11), float64(22), int64(2), object(2)\n",
      "memory usage: 2.2+ MB\n"
     ]
    }
   ],
   "source": [
    "all_years.info()"
   ]
  },
  {
   "cell_type": "markdown",
   "metadata": {},
   "source": [
    "####  Rename, cast, drop and reindex"
   ]
  },
  {
   "cell_type": "code",
   "execution_count": 13,
   "metadata": {},
   "outputs": [],
   "source": [
    "all_years.rename({\"time\":\"date\"}, \n",
    "                 axis=1, \n",
    "                 inplace=True)\n",
    "all_years.loc[:,\"date\"] = pd.to_datetime(all_years[\"date\"])\n",
    "all_years.loc[:,\"sunriseTime\"] = pd.to_datetime(all_years[\"sunriseTime\"])\n",
    "all_years.loc[:,\"temperatureHighTime\"] = pd.to_datetime(all_years[\"temperatureHighTime\"])\n",
    "all_years.loc[:,\"temperatureLowTime\"] = pd.to_datetime(all_years[\"temperatureLowTime\"])\n",
    "\n",
    "all_years.loc[:,\"year\"] = all_years[\"date\"].dt.year\n",
    "all_years.loc[:,\"month\"] = all_years[\"date\"].dt.month\n",
    "all_years.loc[:,\"day\"] = all_years[\"date\"].dt.day\n",
    "all_years.loc[:,\"dayofweek\"] = all_years[\"date\"].dt.dayofweek\n",
    "\n",
    "all_years.drop([\"Unnamed: 0\", \"temperatureHigh.1\"], \n",
    "               axis=1, \n",
    "               inplace=True)\n",
    "\n",
    "all_years.index = all_years[\"date\"].dt.strftime(\"%Y-%m-%d\")"
   ]
  },
  {
   "cell_type": "code",
   "execution_count": 14,
   "metadata": {},
   "outputs": [
    {
     "name": "stdout",
     "output_type": "stream",
     "text": [
      "<class 'pandas.core.frame.DataFrame'>\n",
      "Index: 7669 entries, 2000-01-01 to 2020-12-31\n",
      "Data columns (total 39 columns):\n",
      "date                           7669 non-null datetime64[ns]\n",
      "summary                        7420 non-null object\n",
      "sunriseTime                    7669 non-null datetime64[ns]\n",
      "moonPhase                      7669 non-null float64\n",
      "precipIntensity                5089 non-null float64\n",
      "precipIntensityMax             5089 non-null float64\n",
      "precipIntensityMaxTime         1870 non-null datetime64[ns]\n",
      "precipProbability              5088 non-null float64\n",
      "precipType                     3721 non-null object\n",
      "temperatureHigh                7664 non-null float64\n",
      "temperatureHighTime            7664 non-null datetime64[ns]\n",
      "temperatureLow                 7666 non-null float64\n",
      "temperatureLowTime             7666 non-null datetime64[ns]\n",
      "apparentTemperatureHigh        7664 non-null float64\n",
      "apparentTemperatureHighTime    7664 non-null datetime64[ns]\n",
      "apparentTemperatureLowTime     7666 non-null datetime64[ns]\n",
      "apparentTemperatureLow         7666 non-null float64\n",
      "dewPoint                       7669 non-null float64\n",
      "humidity                       7669 non-null float64\n",
      "pressure                       7313 non-null float64\n",
      "windSpeed                      7669 non-null float64\n",
      "windGust                       5262 non-null float64\n",
      "windBearing                    7669 non-null int64\n",
      "cloudCover                     7436 non-null float64\n",
      "uvIndex                        7655 non-null float64\n",
      "visibility                     4782 non-null float64\n",
      "ozone                          613 non-null float64\n",
      "temperatureMin                 7669 non-null float64\n",
      "temperatureMinTime             7669 non-null datetime64[ns]\n",
      "temperatureMaxTime             7669 non-null datetime64[ns]\n",
      "temperatureMax                 7669 non-null float64\n",
      "apparentTemperatureMin         7669 non-null float64\n",
      "apparentTemperatureMinTime     7669 non-null datetime64[ns]\n",
      "apparentTemperatureMax         7669 non-null float64\n",
      "apparentTemperatureMaxTime     7669 non-null datetime64[ns]\n",
      "year                           7669 non-null int64\n",
      "month                          7669 non-null int64\n",
      "day                            7669 non-null int64\n",
      "dayofweek                      7669 non-null int64\n",
      "dtypes: datetime64[ns](11), float64(21), int64(5), object(2)\n",
      "memory usage: 2.3+ MB\n"
     ]
    }
   ],
   "source": [
    "all_years.info()"
   ]
  },
  {
   "cell_type": "markdown",
   "metadata": {},
   "source": [
    "#### Check for missing data "
   ]
  },
  {
   "cell_type": "code",
   "execution_count": 15,
   "metadata": {},
   "outputs": [
    {
     "data": {
      "text/html": [
       "<div>\n",
       "<style scoped>\n",
       "    .dataframe tbody tr th:only-of-type {\n",
       "        vertical-align: middle;\n",
       "    }\n",
       "\n",
       "    .dataframe tbody tr th {\n",
       "        vertical-align: top;\n",
       "    }\n",
       "\n",
       "    .dataframe thead th {\n",
       "        text-align: right;\n",
       "    }\n",
       "</style>\n",
       "<table border=\"1\" class=\"dataframe\">\n",
       "  <thead>\n",
       "    <tr style=\"text-align: right;\">\n",
       "      <th></th>\n",
       "      <th>null count</th>\n",
       "      <th>null %</th>\n",
       "    </tr>\n",
       "  </thead>\n",
       "  <tbody>\n",
       "    <tr>\n",
       "      <th>ozone</th>\n",
       "      <td>7056</td>\n",
       "      <td>92.01</td>\n",
       "    </tr>\n",
       "    <tr>\n",
       "      <th>precipIntensityMaxTime</th>\n",
       "      <td>5799</td>\n",
       "      <td>75.62</td>\n",
       "    </tr>\n",
       "    <tr>\n",
       "      <th>precipType</th>\n",
       "      <td>3948</td>\n",
       "      <td>51.48</td>\n",
       "    </tr>\n",
       "    <tr>\n",
       "      <th>visibility</th>\n",
       "      <td>2887</td>\n",
       "      <td>37.65</td>\n",
       "    </tr>\n",
       "    <tr>\n",
       "      <th>precipProbability</th>\n",
       "      <td>2581</td>\n",
       "      <td>33.65</td>\n",
       "    </tr>\n",
       "    <tr>\n",
       "      <th>precipIntensity</th>\n",
       "      <td>2580</td>\n",
       "      <td>33.64</td>\n",
       "    </tr>\n",
       "    <tr>\n",
       "      <th>precipIntensityMax</th>\n",
       "      <td>2580</td>\n",
       "      <td>33.64</td>\n",
       "    </tr>\n",
       "    <tr>\n",
       "      <th>windGust</th>\n",
       "      <td>2407</td>\n",
       "      <td>31.39</td>\n",
       "    </tr>\n",
       "    <tr>\n",
       "      <th>pressure</th>\n",
       "      <td>356</td>\n",
       "      <td>4.64</td>\n",
       "    </tr>\n",
       "    <tr>\n",
       "      <th>summary</th>\n",
       "      <td>249</td>\n",
       "      <td>3.25</td>\n",
       "    </tr>\n",
       "    <tr>\n",
       "      <th>cloudCover</th>\n",
       "      <td>233</td>\n",
       "      <td>3.04</td>\n",
       "    </tr>\n",
       "    <tr>\n",
       "      <th>uvIndex</th>\n",
       "      <td>14</td>\n",
       "      <td>0.18</td>\n",
       "    </tr>\n",
       "    <tr>\n",
       "      <th>apparentTemperatureHigh</th>\n",
       "      <td>5</td>\n",
       "      <td>0.07</td>\n",
       "    </tr>\n",
       "    <tr>\n",
       "      <th>apparentTemperatureHighTime</th>\n",
       "      <td>5</td>\n",
       "      <td>0.07</td>\n",
       "    </tr>\n",
       "    <tr>\n",
       "      <th>temperatureHighTime</th>\n",
       "      <td>5</td>\n",
       "      <td>0.07</td>\n",
       "    </tr>\n",
       "    <tr>\n",
       "      <th>temperatureHigh</th>\n",
       "      <td>5</td>\n",
       "      <td>0.07</td>\n",
       "    </tr>\n",
       "    <tr>\n",
       "      <th>apparentTemperatureLowTime</th>\n",
       "      <td>3</td>\n",
       "      <td>0.04</td>\n",
       "    </tr>\n",
       "    <tr>\n",
       "      <th>apparentTemperatureLow</th>\n",
       "      <td>3</td>\n",
       "      <td>0.04</td>\n",
       "    </tr>\n",
       "    <tr>\n",
       "      <th>temperatureLowTime</th>\n",
       "      <td>3</td>\n",
       "      <td>0.04</td>\n",
       "    </tr>\n",
       "    <tr>\n",
       "      <th>temperatureLow</th>\n",
       "      <td>3</td>\n",
       "      <td>0.04</td>\n",
       "    </tr>\n",
       "    <tr>\n",
       "      <th>temperatureMaxTime</th>\n",
       "      <td>0</td>\n",
       "      <td>0.00</td>\n",
       "    </tr>\n",
       "    <tr>\n",
       "      <th>year</th>\n",
       "      <td>0</td>\n",
       "      <td>0.00</td>\n",
       "    </tr>\n",
       "    <tr>\n",
       "      <th>apparentTemperatureMaxTime</th>\n",
       "      <td>0</td>\n",
       "      <td>0.00</td>\n",
       "    </tr>\n",
       "    <tr>\n",
       "      <th>apparentTemperatureMax</th>\n",
       "      <td>0</td>\n",
       "      <td>0.00</td>\n",
       "    </tr>\n",
       "    <tr>\n",
       "      <th>apparentTemperatureMinTime</th>\n",
       "      <td>0</td>\n",
       "      <td>0.00</td>\n",
       "    </tr>\n",
       "    <tr>\n",
       "      <th>month</th>\n",
       "      <td>0</td>\n",
       "      <td>0.00</td>\n",
       "    </tr>\n",
       "    <tr>\n",
       "      <th>day</th>\n",
       "      <td>0</td>\n",
       "      <td>0.00</td>\n",
       "    </tr>\n",
       "    <tr>\n",
       "      <th>apparentTemperatureMin</th>\n",
       "      <td>0</td>\n",
       "      <td>0.00</td>\n",
       "    </tr>\n",
       "    <tr>\n",
       "      <th>temperatureMax</th>\n",
       "      <td>0</td>\n",
       "      <td>0.00</td>\n",
       "    </tr>\n",
       "    <tr>\n",
       "      <th>date</th>\n",
       "      <td>0</td>\n",
       "      <td>0.00</td>\n",
       "    </tr>\n",
       "    <tr>\n",
       "      <th>temperatureMinTime</th>\n",
       "      <td>0</td>\n",
       "      <td>0.00</td>\n",
       "    </tr>\n",
       "    <tr>\n",
       "      <th>temperatureMin</th>\n",
       "      <td>0</td>\n",
       "      <td>0.00</td>\n",
       "    </tr>\n",
       "    <tr>\n",
       "      <th>windBearing</th>\n",
       "      <td>0</td>\n",
       "      <td>0.00</td>\n",
       "    </tr>\n",
       "    <tr>\n",
       "      <th>windSpeed</th>\n",
       "      <td>0</td>\n",
       "      <td>0.00</td>\n",
       "    </tr>\n",
       "    <tr>\n",
       "      <th>humidity</th>\n",
       "      <td>0</td>\n",
       "      <td>0.00</td>\n",
       "    </tr>\n",
       "    <tr>\n",
       "      <th>dewPoint</th>\n",
       "      <td>0</td>\n",
       "      <td>0.00</td>\n",
       "    </tr>\n",
       "    <tr>\n",
       "      <th>moonPhase</th>\n",
       "      <td>0</td>\n",
       "      <td>0.00</td>\n",
       "    </tr>\n",
       "    <tr>\n",
       "      <th>sunriseTime</th>\n",
       "      <td>0</td>\n",
       "      <td>0.00</td>\n",
       "    </tr>\n",
       "    <tr>\n",
       "      <th>dayofweek</th>\n",
       "      <td>0</td>\n",
       "      <td>0.00</td>\n",
       "    </tr>\n",
       "  </tbody>\n",
       "</table>\n",
       "</div>"
      ],
      "text/plain": [
       "                             null count  null %\n",
       "ozone                              7056   92.01\n",
       "precipIntensityMaxTime             5799   75.62\n",
       "precipType                         3948   51.48\n",
       "visibility                         2887   37.65\n",
       "precipProbability                  2581   33.65\n",
       "precipIntensity                    2580   33.64\n",
       "precipIntensityMax                 2580   33.64\n",
       "windGust                           2407   31.39\n",
       "pressure                            356    4.64\n",
       "summary                             249    3.25\n",
       "cloudCover                          233    3.04\n",
       "uvIndex                              14    0.18\n",
       "apparentTemperatureHigh               5    0.07\n",
       "apparentTemperatureHighTime           5    0.07\n",
       "temperatureHighTime                   5    0.07\n",
       "temperatureHigh                       5    0.07\n",
       "apparentTemperatureLowTime            3    0.04\n",
       "apparentTemperatureLow                3    0.04\n",
       "temperatureLowTime                    3    0.04\n",
       "temperatureLow                        3    0.04\n",
       "temperatureMaxTime                    0    0.00\n",
       "year                                  0    0.00\n",
       "apparentTemperatureMaxTime            0    0.00\n",
       "apparentTemperatureMax                0    0.00\n",
       "apparentTemperatureMinTime            0    0.00\n",
       "month                                 0    0.00\n",
       "day                                   0    0.00\n",
       "apparentTemperatureMin                0    0.00\n",
       "temperatureMax                        0    0.00\n",
       "date                                  0    0.00\n",
       "temperatureMinTime                    0    0.00\n",
       "temperatureMin                        0    0.00\n",
       "windBearing                           0    0.00\n",
       "windSpeed                             0    0.00\n",
       "humidity                              0    0.00\n",
       "dewPoint                              0    0.00\n",
       "moonPhase                             0    0.00\n",
       "sunriseTime                           0    0.00\n",
       "dayofweek                             0    0.00"
      ]
     },
     "execution_count": 15,
     "metadata": {},
     "output_type": "execute_result"
    }
   ],
   "source": [
    "null_df = pd.DataFrame(all_years.isnull().sum(), columns=[\"null count\"])\n",
    "null_df[\"null %\"] = round(null_df[\"null count\"] / len(all_years)*100, 2)\n",
    "null_df.sort_values(by=\"null count\", ascending=False)"
   ]
  },
  {
   "cell_type": "markdown",
   "metadata": {},
   "source": [
    "#### Drop columns where above 50% is missing"
   ]
  },
  {
   "cell_type": "code",
   "execution_count": 16,
   "metadata": {},
   "outputs": [],
   "source": [
    "all_years.drop(['precipType', 'ozone','precipIntensityMaxTime'], \n",
    "               axis=1,\n",
    "               inplace=True)"
   ]
  },
  {
   "cell_type": "markdown",
   "metadata": {},
   "source": [
    "### Extreme Weather"
   ]
  },
  {
   "cell_type": "markdown",
   "metadata": {},
   "source": [
    "#### Highest Temperature max"
   ]
  },
  {
   "cell_type": "code",
   "execution_count": 17,
   "metadata": {},
   "outputs": [
    {
     "data": {
      "text/html": [
       "<div>\n",
       "<style scoped>\n",
       "    .dataframe tbody tr th:only-of-type {\n",
       "        vertical-align: middle;\n",
       "    }\n",
       "\n",
       "    .dataframe tbody tr th {\n",
       "        vertical-align: top;\n",
       "    }\n",
       "\n",
       "    .dataframe thead th {\n",
       "        text-align: right;\n",
       "    }\n",
       "</style>\n",
       "<table border=\"1\" class=\"dataframe\">\n",
       "  <thead>\n",
       "    <tr style=\"text-align: right;\">\n",
       "      <th></th>\n",
       "      <th>temperatureMax</th>\n",
       "    </tr>\n",
       "    <tr>\n",
       "      <th>date</th>\n",
       "      <th></th>\n",
       "    </tr>\n",
       "  </thead>\n",
       "  <tbody>\n",
       "    <tr>\n",
       "      <th>2007-07-20</th>\n",
       "      <td>40.44</td>\n",
       "    </tr>\n",
       "  </tbody>\n",
       "</table>\n",
       "</div>"
      ],
      "text/plain": [
       "            temperatureMax\n",
       "date                      \n",
       "2007-07-20           40.44"
      ]
     },
     "execution_count": 17,
     "metadata": {},
     "output_type": "execute_result"
    }
   ],
   "source": [
    "all_years[all_years[\"temperatureMax\"] == all_years[\"temperatureMax\"].max()][[\"temperatureMax\"]]"
   ]
  },
  {
   "cell_type": "code",
   "execution_count": 37,
   "metadata": {},
   "outputs": [
    {
     "data": {
      "text/plain": [
       "'mean: 16.39'"
      ]
     },
     "execution_count": 37,
     "metadata": {},
     "output_type": "execute_result"
    }
   ],
   "source": [
    "temperatureMax_mean = all_years[\"temperatureMax\"].mean()\n",
    "f\"mean: {temperatureMax_mean:.2f}\""
   ]
  },
  {
   "cell_type": "markdown",
   "metadata": {},
   "source": [
    "#### Lowest Temperature low"
   ]
  },
  {
   "cell_type": "code",
   "execution_count": 35,
   "metadata": {},
   "outputs": [
    {
     "data": {
      "text/html": [
       "<div>\n",
       "<style scoped>\n",
       "    .dataframe tbody tr th:only-of-type {\n",
       "        vertical-align: middle;\n",
       "    }\n",
       "\n",
       "    .dataframe tbody tr th {\n",
       "        vertical-align: top;\n",
       "    }\n",
       "\n",
       "    .dataframe thead th {\n",
       "        text-align: right;\n",
       "    }\n",
       "</style>\n",
       "<table border=\"1\" class=\"dataframe\">\n",
       "  <thead>\n",
       "    <tr style=\"text-align: right;\">\n",
       "      <th></th>\n",
       "      <th>temperatureMin</th>\n",
       "    </tr>\n",
       "    <tr>\n",
       "      <th>date</th>\n",
       "      <th></th>\n",
       "    </tr>\n",
       "  </thead>\n",
       "  <tbody>\n",
       "    <tr>\n",
       "      <th>2003-01-13</th>\n",
       "      <td>-20.61</td>\n",
       "    </tr>\n",
       "  </tbody>\n",
       "</table>\n",
       "</div>"
      ],
      "text/plain": [
       "            temperatureMin\n",
       "date                      \n",
       "2003-01-13          -20.61"
      ]
     },
     "execution_count": 35,
     "metadata": {},
     "output_type": "execute_result"
    }
   ],
   "source": [
    "all_years[all_years[\"temperatureMin\"] == all_years[\"temperatureMin\"].min()][[\"temperatureMin\"]]"
   ]
  },
  {
   "cell_type": "code",
   "execution_count": 38,
   "metadata": {},
   "outputs": [
    {
     "data": {
      "text/plain": [
       "'mean: 7.20'"
      ]
     },
     "execution_count": 38,
     "metadata": {},
     "output_type": "execute_result"
    }
   ],
   "source": [
    "temperatureMin_mean = round(all_years[\"temperatureMin\"].mean(), 1)\n",
    "f\"mean: {temperatureMin_mean:.2f}\""
   ]
  },
  {
   "cell_type": "markdown",
   "metadata": {},
   "source": [
    "#### Highest windSpeed (m/s)"
   ]
  },
  {
   "cell_type": "code",
   "execution_count": 191,
   "metadata": {},
   "outputs": [
    {
     "data": {
      "text/html": [
       "<div>\n",
       "<style scoped>\n",
       "    .dataframe tbody tr th:only-of-type {\n",
       "        vertical-align: middle;\n",
       "    }\n",
       "\n",
       "    .dataframe tbody tr th {\n",
       "        vertical-align: top;\n",
       "    }\n",
       "\n",
       "    .dataframe thead th {\n",
       "        text-align: right;\n",
       "    }\n",
       "</style>\n",
       "<table border=\"1\" class=\"dataframe\">\n",
       "  <thead>\n",
       "    <tr style=\"text-align: right;\">\n",
       "      <th></th>\n",
       "      <th>windSpeed</th>\n",
       "    </tr>\n",
       "    <tr>\n",
       "      <th>date</th>\n",
       "      <th></th>\n",
       "    </tr>\n",
       "  </thead>\n",
       "  <tbody>\n",
       "    <tr>\n",
       "      <th>2018-10-24</th>\n",
       "      <td>9.66</td>\n",
       "    </tr>\n",
       "  </tbody>\n",
       "</table>\n",
       "</div>"
      ],
      "text/plain": [
       "            windSpeed\n",
       "date                 \n",
       "2018-10-24       9.66"
      ]
     },
     "execution_count": 191,
     "metadata": {},
     "output_type": "execute_result"
    }
   ],
   "source": [
    "all_years[all_years[\"windSpeed\"] == all_years[\"windSpeed\"].max()][[\"windSpeed\"]]"
   ]
  },
  {
   "cell_type": "code",
   "execution_count": 39,
   "metadata": {},
   "outputs": [
    {
     "data": {
      "text/plain": [
       "'mean: 2.30'"
      ]
     },
     "execution_count": 39,
     "metadata": {},
     "output_type": "execute_result"
    }
   ],
   "source": [
    "windSpeed_mean = round(all_years[\"windSpeed\"].mean(), 1)\n",
    "f\"mean: {windSpeed_mean:.2f}\""
   ]
  },
  {
   "cell_type": "markdown",
   "metadata": {},
   "source": [
    "## Plotting data"
   ]
  },
  {
   "cell_type": "code",
   "execution_count": 40,
   "metadata": {},
   "outputs": [
    {
     "name": "stdout",
     "output_type": "stream",
     "text": [
      "Using matplotlib backend: Qt5Agg\n"
     ]
    }
   ],
   "source": [
    "import matplotlib.pyplot as plt\n",
    "plt.style.use('seaborn-whitegrid')\n",
    "\n",
    "%matplotlib\n",
    "%matplotlib inline"
   ]
  },
  {
   "cell_type": "markdown",
   "metadata": {},
   "source": [
    "### Comparing same periods of different years"
   ]
  },
  {
   "cell_type": "code",
   "execution_count": 41,
   "metadata": {},
   "outputs": [],
   "source": [
    "all_years[\"month_day\"] = all_years[\"date\"].dt.month.astype(str) \\\n",
    "+ \".\" + all_years[\"date\"].dt.day.astype(str)"
   ]
  },
  {
   "cell_type": "code",
   "execution_count": 115,
   "metadata": {},
   "outputs": [],
   "source": [
    "year1 = '2015'\n",
    "year2 = '2020'\n",
    "\n",
    "start_period = '06-01'\n",
    "end_period = '08-31'\n",
    "\n",
    "year_1_df = all_years[f'{year1}-{start_period}': f'{year1}-{end_period}'].copy()\n",
    "year_2_df = all_years[f'{year2}-{start_period}': f'{year2}-{end_period}'].copy()"
   ]
  },
  {
   "cell_type": "code",
   "execution_count": 145,
   "metadata": {},
   "outputs": [
    {
     "name": "stdout",
     "output_type": "stream",
     "text": [
      "2015 count of null values: 0\n",
      "2020 count of null values: 0\n"
     ]
    }
   ],
   "source": [
    "year1_th_null_values = year_1[\"temperatureHigh\"].isnull().sum()\n",
    "year1_th_null_values = year_2[\"temperatureHigh\"].isnull().sum()\n",
    "print(f\"{year1} count of null values: {year1_th_null_values}\")\n",
    "print(f\"{year2} count of null values: {year1_th_null_values}\")"
   ]
  },
  {
   "cell_type": "markdown",
   "metadata": {},
   "source": [
    "### Comparing Temperature Highs"
   ]
  },
  {
   "cell_type": "code",
   "execution_count": 146,
   "metadata": {},
   "outputs": [
    {
     "name": "stdout",
     "output_type": "stream",
     "text": [
      "2015 summer temperatureHigh mean: 28.83 C\n",
      "2020 summer temperatureHigh mean: 27.83 C\n"
     ]
    }
   ],
   "source": [
    "year_1_temp_high_mean = year_1[\"temperatureHigh\"].mean()\n",
    "year_2_temp_high_mean = year_2[\"temperatureHigh\"].mean()\n",
    "\n",
    "print(f\"{year1} summer temperatureHigh mean: {year_1_temp_high_mean:.2f} C\")\n",
    "print(f\"{year2} summer temperatureHigh mean: {year_2_temp_high_mean:.2f} C\")"
   ]
  },
  {
   "cell_type": "code",
   "execution_count": 188,
   "metadata": {},
   "outputs": [
    {
     "data": {
      "text/plain": [
       "<matplotlib.legend.Legend at 0x7f2d72dc7190>"
      ]
     },
     "execution_count": 188,
     "metadata": {},
     "output_type": "execute_result"
    },
    {
     "data": {
      "image/png": "[encoded data removed]",
      "text/plain": [
       "<Figure size 1008x288 with 1 Axes>"
      ]
     },
     "metadata": {
      "needs_background": "light"
     },
     "output_type": "display_data"
    }
   ],
   "source": [
    "fig = plt.figure(figsize=(14,4))\n",
    "ax = plt.axes()\n",
    "ax.plot(year_1_df[\"month_day\"],\n",
    "        year_1_df[\"temperatureHigh\"], \n",
    "         '-', \n",
    "         color='grey',\n",
    "         label=f'temperatureHigh {year1}'\n",
    "        )\n",
    "ax.plot(year_2_df[\"month_day\"],\n",
    "        year_2_df[\"temperatureHigh\"], \n",
    "         '-', \n",
    "         color='black',\n",
    "         label=f'temperatureHigh {year2}'\n",
    "        )\n",
    "\n",
    "ax.plot([year_1_temp_high_mean] * len(year_1_df),\n",
    "        \":\",\n",
    "        color='red',\n",
    "        label=f'temperatureHigh mean {year1}'\n",
    "       )\n",
    "\n",
    "ax.plot([year_2_temp_high_mean] * len(year_2_df),\n",
    "        \"--\",\n",
    "        color='green',\n",
    "        label=f'temperatureHigh mean {year2}'\n",
    "       )\n",
    "\n",
    "ax.tick_params(axis='x', rotation=90)\n",
    "\n",
    "ax.set(title=f\"summer {year1} vs summer {year2}\",\n",
    "       xlabel='Date', \n",
    "       ylabel='Celsius')\n",
    "\n",
    "\n",
    "ax.legend(bbox_to_anchor=(1.2, 1.3))"
   ]
  },
  {
   "cell_type": "markdown",
   "metadata": {},
   "source": [
    "### Comparing Temperature Lows"
   ]
  },
  {
   "cell_type": "code",
   "execution_count": 148,
   "metadata": {},
   "outputs": [
    {
     "name": "stdout",
     "output_type": "stream",
     "text": [
      "2015 count of null values: 0\n",
      "2020 count of null values: 0\n"
     ]
    }
   ],
   "source": [
    "year1_tl_null_values = year_1[\"temperatureLow\"].isnull().sum()\n",
    "year2_tl_null_values = year_2[\"temperatureLow\"].isnull().sum()\n",
    "print(f\"{year1} count of null values: {year1_tl_null_values}\")\n",
    "print(f\"{year2} count of null values: {year2_tl_null_values}\")"
   ]
  },
  {
   "cell_type": "code",
   "execution_count": 149,
   "metadata": {},
   "outputs": [
    {
     "name": "stdout",
     "output_type": "stream",
     "text": [
      "2015 summer temperatureLow mean: 16.99 C\n",
      "2020 summer temperatureLow mean: 18.27 C\n"
     ]
    }
   ],
   "source": [
    "year_1_temp_low_mean = year_1[\"temperatureLow\"].mean()\n",
    "year_2_temp_low_mean = year_2[\"temperatureLow\"].mean()\n",
    "\n",
    "print(f\"{year1} summer temperatureLow mean: {year_1_temp_low_mean:.2f} C\")\n",
    "print(f\"{year2} summer temperatureLow mean: {year_2_temp_low_mean:.2f} C\")"
   ]
  },
  {
   "cell_type": "code",
   "execution_count": 189,
   "metadata": {},
   "outputs": [
    {
     "data": {
      "text/plain": [
       "<matplotlib.legend.Legend at 0x7f2d72c33890>"
      ]
     },
     "execution_count": 189,
     "metadata": {},
     "output_type": "execute_result"
    },
    {
     "data": {
      "image/png": "[encoded data removed]",
      "text/plain": [
       "<Figure size 1008x288 with 1 Axes>"
      ]
     },
     "metadata": {
      "needs_background": "light"
     },
     "output_type": "display_data"
    }
   ],
   "source": [
    "fig = plt.figure(figsize=(14,4))\n",
    "ax = plt.axes()\n",
    "ax.plot(year_1_df[\"month_day\"],\n",
    "        year_1_df[\"temperatureLow\"], \n",
    "         '-', \n",
    "         color='grey',\n",
    "         label=f'temperatureLow {year1}'\n",
    "        )\n",
    "ax.plot(year_2_df[\"month_day\"],\n",
    "        year_2_df[\"temperatureLow\"], \n",
    "         '-', \n",
    "         color='black',\n",
    "         label=f'temperatureLow {year2}'\n",
    "        )\n",
    "\n",
    "ax.plot([year_1_temp_low_mean] * len(year_1_df),\n",
    "        \":\",\n",
    "        color='red',\n",
    "        label=f'temperatureLow mean {year1}'\n",
    "       )\n",
    "\n",
    "ax.plot([year_2_temp_low_mean] * len(year_2_df),\n",
    "        \"--\",\n",
    "        color='green',\n",
    "        label=f'temperatureLow mean {year2}'\n",
    "       )\n",
    "\n",
    "ax.tick_params(axis='x', rotation=90)\n",
    "\n",
    "ax.set(title=f\"summer {year1} vs summer {year2}\",\n",
    "       xlabel='Date', \n",
    "       ylabel='Celsius')\n",
    "\n",
    "\n",
    "ax.legend(bbox_to_anchor=(1.2, 1.3))"
   ]
  },
  {
   "cell_type": "markdown",
   "metadata": {},
   "source": [
    "### Comparing precipIntensity\n",
    "\n",
    "precipIntensity measure unit: Millimeters per hour"
   ]
  },
  {
   "cell_type": "code",
   "execution_count": 122,
   "metadata": {},
   "outputs": [
    {
     "data": {
      "text/plain": [
       "count    5089.000000\n",
       "mean        0.060715\n",
       "std         0.395774\n",
       "min         0.000000\n",
       "25%         0.000000\n",
       "50%         0.000000\n",
       "75%         0.008300\n",
       "max        11.334000\n",
       "Name: precipIntensity, dtype: float64"
      ]
     },
     "execution_count": 122,
     "metadata": {},
     "output_type": "execute_result"
    }
   ],
   "source": [
    "all_years[\"precipIntensity\"].describe()"
   ]
  },
  {
   "cell_type": "code",
   "execution_count": 150,
   "metadata": {},
   "outputs": [
    {
     "name": "stdout",
     "output_type": "stream",
     "text": [
      "2015 count of null values: 0\n",
      "2020 count of null values: 0\n"
     ]
    }
   ],
   "source": [
    "year1_pi_null_values = year_1[\"precipIntensity\"].isnull().sum()\n",
    "year2_pi_null_values = year_2[\"precipIntensity\"].isnull().sum()\n",
    "print(f\"{year1} count of null values: {year1_tl_null_values}\")\n",
    "print(f\"{year2} count of null values: {year2_tl_null_values}\")"
   ]
  },
  {
   "cell_type": "code",
   "execution_count": 184,
   "metadata": {},
   "outputs": [
    {
     "name": "stdout",
     "output_type": "stream",
     "text": [
      "2015 summer precipIntensity mean: 0.03 Millimeters per hour\n",
      "2020 summer precipIntensity mean: 0.10 Millimeters per hour\n"
     ]
    }
   ],
   "source": [
    "year_1_precipIntensity_mean = year_1[\"precipIntensity\"].mean()\n",
    "year_2_precipIntensity_mean = year_2[\"precipIntensity\"].mean()\n",
    "\n",
    "print(f\"{year1} summer precipIntensity mean: {year_1_precipIntensity_mean:.2f} Millimeters per hour\")\n",
    "print(f\"{year2} summer precipIntensity mean: {year_2_precipIntensity_mean:.2f} Millimeters per hour\")"
   ]
  },
  {
   "cell_type": "code",
   "execution_count": 202,
   "metadata": {},
   "outputs": [
    {
     "data": {
      "text/plain": [
       "<matplotlib.legend.Legend at 0x7f2d6feb5950>"
      ]
     },
     "execution_count": 202,
     "metadata": {},
     "output_type": "execute_result"
    },
    {
     "data": {
      "image/png": "[encoded data removed]",
      "text/plain": [
       "<Figure size 1008x288 with 1 Axes>"
      ]
     },
     "metadata": {
      "needs_background": "light"
     },
     "output_type": "display_data"
    }
   ],
   "source": [
    "fig = plt.figure(figsize=(14,4))\n",
    "ax = plt.axes()\n",
    "ax.bar(year_1_df[\"month_day\"], \n",
    "       year_1_df[\"precipIntensity\"],\n",
    "       color='blue',\n",
    "       label=f'precipIntensity {year1}',\n",
    "       alpha=0.5\n",
    "       )\n",
    "\n",
    "ax.bar(year_2_df[\"month_day\"], \n",
    "       year_2_df[\"precipIntensity\"],\n",
    "       color='green',\n",
    "       label=f'precipIntensity {year2}',\n",
    "       alpha=0.5\n",
    "       )\n",
    "\n",
    "ax.plot([year_1_precipIntensity_mean] * len(year_1_df),\n",
    "        \":\",\n",
    "        color='black',\n",
    "        label=f'precipIntensity mean {year1}'\n",
    "       )\n",
    "\n",
    "ax.plot([year_2_precipIntensity_mean] * len(year_2_df),\n",
    "        \"--\",\n",
    "        color='black',\n",
    "        label=f'precipIntensity mean {year1}'\n",
    "       )\n",
    "\n",
    "ax.tick_params(axis='x',rotation=90)\n",
    "\n",
    "ax.set(title=f\"summer {year1} vs summer {year2}\",\n",
    "       xlabel='Date', \n",
    "       ylabel='Celsius')\n",
    "\n",
    "ax.legend(bbox_to_anchor=(1.2, 1.3))"
   ]
  },
  {
   "cell_type": "code",
   "execution_count": null,
   "metadata": {},
   "outputs": [],
   "source": []
  }
 ],
 "metadata": {
  "kernelspec": {
   "display_name": "Python 3",
   "language": "python",
   "name": "python3"
  },
  "language_info": {
   "codemirror_mode": {
    "name": "ipython",
    "version": 3
   },
   "file_extension": ".py",
   "mimetype": "text/x-python",
   "name": "python",
   "nbconvert_exporter": "python",
   "pygments_lexer": "ipython3",
   "version": "3.7.6"
  }
 },
 "nbformat": 4,
 "nbformat_minor": 2
}
